{
 "cells": [
  {
   "cell_type": "code",
   "execution_count": 13,
   "metadata": {},
   "outputs": [],
   "source": [
    "import pandas as pd\n",
    "import matplotlib.pyplot as plt\n",
    "import os\n",
    "import glob\n",
    "import numpy as np\n"
   ]
  },
  {
   "cell_type": "markdown",
   "metadata": {},
   "source": [
    "### Read in Data"
   ]
  },
  {
   "cell_type": "code",
   "execution_count": 14,
   "metadata": {},
   "outputs": [],
   "source": [
    "data_directory = './Data/'"
   ]
  },
  {
   "cell_type": "code",
   "execution_count": 15,
   "metadata": {},
   "outputs": [],
   "source": [
    "# Set the directory for the txt files\n",
    "questions = data_directory +'questions/'\n",
    "subject_matter = data_directory + 'subject_matter/'\n",
    "\n",
    "# Initialize an empty list to store the data\n",
    "questions_list = []\n",
    "subject_matter_list = []\n",
    "\n",
    "# Iterate over the subject matter txt files\n",
    "for file in os.listdir(subject_matter):\n",
    "    # Read the txt file into a dataframe\n",
    "    with open(subject_matter + file, 'r') as text:\n",
    "        data = [file, text.read()]\n",
    "    # Append the data to the respective lists\n",
    "    subject_matter_list.append(data)\n",
    "\n",
    "# Iterate over the question txt files\n",
    "for file in os.listdir(questions):\n",
    "    # Read the txt file into a dataframe\n",
    "    with open(questions + file, 'r') as text:\n",
    "        data = [file, text.read()]\n",
    "    # Append the data to the respective lists\n",
    "    questions_list.append(data)\n",
    "\n",
    "#questions_list\n",
    "questions_df = pd.DataFrame(questions_list,columns=['Filename','Questions'])\n",
    "subject_matter_df = pd.DataFrame(subject_matter_list,columns=['Filename','Subject Matter'])"
   ]
  },
  {
   "cell_type": "code",
   "execution_count": 16,
   "metadata": {},
   "outputs": [],
   "source": [
    "subject_matter_df['Filename'] = subject_matter_df['Filename'].str.replace('.txt', '')\n",
    "questions_df['Filename'] = questions_df['Filename'].str.replace('.txt', '')"
   ]
  },
  {
   "cell_type": "markdown",
   "metadata": {},
   "source": [
    "### Word Count"
   ]
  },
  {
   "cell_type": "code",
   "execution_count": 43,
   "metadata": {},
   "outputs": [],
   "source": [
    "questions_df['Word Count'] = questions_df['Questions'].str.split().str.len()\n",
    "subject_matter_df['Word Count'] = subject_matter_df['Subject Matter'].str.split().str.len()"
   ]
  },
  {
   "cell_type": "code",
   "execution_count": 44,
   "metadata": {},
   "outputs": [
    {
     "data": {
      "text/html": [
       "<div>\n",
       "<style scoped>\n",
       "    .dataframe tbody tr th:only-of-type {\n",
       "        vertical-align: middle;\n",
       "    }\n",
       "\n",
       "    .dataframe tbody tr th {\n",
       "        vertical-align: top;\n",
       "    }\n",
       "\n",
       "    .dataframe thead th {\n",
       "        text-align: right;\n",
       "    }\n",
       "</style>\n",
       "<table border=\"1\" class=\"dataframe\">\n",
       "  <thead>\n",
       "    <tr style=\"text-align: right;\">\n",
       "      <th></th>\n",
       "      <th>Filename</th>\n",
       "      <th>Subject Matter</th>\n",
       "      <th>Word Count</th>\n",
       "    </tr>\n",
       "  </thead>\n",
       "  <tbody>\n",
       "    <tr>\n",
       "      <th>1260</th>\n",
       "      <td>001-123768</td>\n",
       "      <td>\\n1. The applicant, Mr Zayn Al-Abidin Muhammad...</td>\n",
       "      <td>41339</td>\n",
       "    </tr>\n",
       "    <tr>\n",
       "      <th>408</th>\n",
       "      <td>001-112302</td>\n",
       "      <td>\\n1. The applicant, Mr Abd Al Rahim Hussayn Mu...</td>\n",
       "      <td>36320</td>\n",
       "    </tr>\n",
       "    <tr>\n",
       "      <th>551</th>\n",
       "      <td>001-113814</td>\n",
       "      <td>THE FACTS\\n1. The applicant, Mr Abd al Rahim H...</td>\n",
       "      <td>31110</td>\n",
       "    </tr>\n",
       "    <tr>\n",
       "      <th>1805</th>\n",
       "      <td>001-142597</td>\n",
       "      <td>\\n1. Mr Khodorkovskiy (the first applicant) wa...</td>\n",
       "      <td>22623</td>\n",
       "    </tr>\n",
       "    <tr>\n",
       "      <th>1244</th>\n",
       "      <td>001-122872</td>\n",
       "      <td>\\n\\n1. The applicant, Ms Yuliya Volodymyrivna ...</td>\n",
       "      <td>21128</td>\n",
       "    </tr>\n",
       "    <tr>\n",
       "      <th>5028</th>\n",
       "      <td>001-187541</td>\n",
       "      <td>The applicant, Mr Leonid Borisovich Nevzlin, i...</td>\n",
       "      <td>20084</td>\n",
       "    </tr>\n",
       "    <tr>\n",
       "      <th>780</th>\n",
       "      <td>001-115816</td>\n",
       "      <td>\\nThe applicant, Mr Abu Zubaydah, is a statele...</td>\n",
       "      <td>16538</td>\n",
       "    </tr>\n",
       "    <tr>\n",
       "      <th>2748</th>\n",
       "      <td>001-157725</td>\n",
       "      <td>The applicant, Mr Zaven Volodyayevich Naltakya...</td>\n",
       "      <td>16013</td>\n",
       "    </tr>\n",
       "    <tr>\n",
       "      <th>2244</th>\n",
       "      <td>001-149050</td>\n",
       "      <td>\\n1. Application no. 32631/09 was lodged on 11...</td>\n",
       "      <td>14619</td>\n",
       "    </tr>\n",
       "    <tr>\n",
       "      <th>2476</th>\n",
       "      <td>001-153895</td>\n",
       "      <td>The first applicant, Times Newspapers Ltd, is ...</td>\n",
       "      <td>14480</td>\n",
       "    </tr>\n",
       "    <tr>\n",
       "      <th>1792</th>\n",
       "      <td>001-142506</td>\n",
       "      <td>\\nA. General overview of the case\\n1. The fact...</td>\n",
       "      <td>14103</td>\n",
       "    </tr>\n",
       "    <tr>\n",
       "      <th>1284</th>\n",
       "      <td>001-124162</td>\n",
       "      <td>THE FACTS\\n1. The applicant, Mr Mushegh Saghat...</td>\n",
       "      <td>13529</td>\n",
       "    </tr>\n",
       "    <tr>\n",
       "      <th>296</th>\n",
       "      <td>001-111334</td>\n",
       "      <td>\\nTHE FACTS\\n1. The applicant, Ms Patricia Arm...</td>\n",
       "      <td>13445</td>\n",
       "    </tr>\n",
       "    <tr>\n",
       "      <th>411</th>\n",
       "      <td>001-112348</td>\n",
       "      <td>THE FACTS\\nThe applicant, Mr Dag Vilnes, is a ...</td>\n",
       "      <td>13231</td>\n",
       "    </tr>\n",
       "    <tr>\n",
       "      <th>4396</th>\n",
       "      <td>001-179679</td>\n",
       "      <td>1. The first applicant, Rustavi 2 Broadcasting...</td>\n",
       "      <td>13217</td>\n",
       "    </tr>\n",
       "    <tr>\n",
       "      <th>431</th>\n",
       "      <td>001-112485</td>\n",
       "      <td>\\n1. The first applicant, Mr Raycho Angelov Di...</td>\n",
       "      <td>13041</td>\n",
       "    </tr>\n",
       "    <tr>\n",
       "      <th>895</th>\n",
       "      <td>001-116865</td>\n",
       "      <td>\\nThe applicants are Mr Michael Christopher Ho...</td>\n",
       "      <td>12615</td>\n",
       "    </tr>\n",
       "    <tr>\n",
       "      <th>403</th>\n",
       "      <td>001-112188</td>\n",
       "      <td>A. The circumstances of the case\\n1. Introduct...</td>\n",
       "      <td>12314</td>\n",
       "    </tr>\n",
       "    <tr>\n",
       "      <th>479</th>\n",
       "      <td>001-113200</td>\n",
       "      <td>\\nThe applicants are Pakistani nationals who l...</td>\n",
       "      <td>12147</td>\n",
       "    </tr>\n",
       "    <tr>\n",
       "      <th>805</th>\n",
       "      <td>001-115994</td>\n",
       "      <td>1. The applicant in the first application (no....</td>\n",
       "      <td>11218</td>\n",
       "    </tr>\n",
       "    <tr>\n",
       "      <th>2026</th>\n",
       "      <td>001-146071</td>\n",
       "      <td>The applicant is a Russian national who was bo...</td>\n",
       "      <td>11186</td>\n",
       "    </tr>\n",
       "    <tr>\n",
       "      <th>1965</th>\n",
       "      <td>001-145735</td>\n",
       "      <td>A list of the applicants is set out in the app...</td>\n",
       "      <td>10956</td>\n",
       "    </tr>\n",
       "    <tr>\n",
       "      <th>5152</th>\n",
       "      <td>001-189308</td>\n",
       "      <td>1. A list of the applicants is set out in the ...</td>\n",
       "      <td>10365</td>\n",
       "    </tr>\n",
       "    <tr>\n",
       "      <th>803</th>\n",
       "      <td>001-115992</td>\n",
       "      <td>1. The first applicant, Mr Anton Antonov Balak...</td>\n",
       "      <td>10171</td>\n",
       "    </tr>\n",
       "  </tbody>\n",
       "</table>\n",
       "</div>"
      ],
      "text/plain": [
       "        Filename                                     Subject Matter  \\\n",
       "1260  001-123768  \\n1. The applicant, Mr Zayn Al-Abidin Muhammad...   \n",
       "408   001-112302  \\n1. The applicant, Mr Abd Al Rahim Hussayn Mu...   \n",
       "551   001-113814  THE FACTS\\n1. The applicant, Mr Abd al Rahim H...   \n",
       "1805  001-142597  \\n1. Mr Khodorkovskiy (the first applicant) wa...   \n",
       "1244  001-122872  \\n\\n1. The applicant, Ms Yuliya Volodymyrivna ...   \n",
       "5028  001-187541  The applicant, Mr Leonid Borisovich Nevzlin, i...   \n",
       "780   001-115816  \\nThe applicant, Mr Abu Zubaydah, is a statele...   \n",
       "2748  001-157725  The applicant, Mr Zaven Volodyayevich Naltakya...   \n",
       "2244  001-149050  \\n1. Application no. 32631/09 was lodged on 11...   \n",
       "2476  001-153895  The first applicant, Times Newspapers Ltd, is ...   \n",
       "1792  001-142506  \\nA. General overview of the case\\n1. The fact...   \n",
       "1284  001-124162  THE FACTS\\n1. The applicant, Mr Mushegh Saghat...   \n",
       "296   001-111334  \\nTHE FACTS\\n1. The applicant, Ms Patricia Arm...   \n",
       "411   001-112348  THE FACTS\\nThe applicant, Mr Dag Vilnes, is a ...   \n",
       "4396  001-179679  1. The first applicant, Rustavi 2 Broadcasting...   \n",
       "431   001-112485  \\n1. The first applicant, Mr Raycho Angelov Di...   \n",
       "895   001-116865  \\nThe applicants are Mr Michael Christopher Ho...   \n",
       "403   001-112188  A. The circumstances of the case\\n1. Introduct...   \n",
       "479   001-113200  \\nThe applicants are Pakistani nationals who l...   \n",
       "805   001-115994  1. The applicant in the first application (no....   \n",
       "2026  001-146071  The applicant is a Russian national who was bo...   \n",
       "1965  001-145735  A list of the applicants is set out in the app...   \n",
       "5152  001-189308  1. A list of the applicants is set out in the ...   \n",
       "803   001-115992  1. The first applicant, Mr Anton Antonov Balak...   \n",
       "\n",
       "      Word Count  \n",
       "1260       41339  \n",
       "408        36320  \n",
       "551        31110  \n",
       "1805       22623  \n",
       "1244       21128  \n",
       "5028       20084  \n",
       "780        16538  \n",
       "2748       16013  \n",
       "2244       14619  \n",
       "2476       14480  \n",
       "1792       14103  \n",
       "1284       13529  \n",
       "296        13445  \n",
       "411        13231  \n",
       "4396       13217  \n",
       "431        13041  \n",
       "895        12615  \n",
       "403        12314  \n",
       "479        12147  \n",
       "805        11218  \n",
       "2026       11186  \n",
       "1965       10956  \n",
       "5152       10365  \n",
       "803        10171  "
      ]
     },
     "execution_count": 44,
     "metadata": {},
     "output_type": "execute_result"
    }
   ],
   "source": [
    "subject_matter_df[subject_matter_df['Word Count'] > 10000].sort_values(by='Word Count', ascending=False)"
   ]
  },
  {
   "cell_type": "markdown",
   "metadata": {},
   "source": [
    "### Link Data"
   ]
  },
  {
   "cell_type": "code",
   "execution_count": 80,
   "metadata": {},
   "outputs": [],
   "source": [
    "# create merged df\n",
    "df = pd.merge(questions_df, subject_matter_df, on='Filename')"
   ]
  },
  {
   "cell_type": "code",
   "execution_count": 46,
   "metadata": {},
   "outputs": [
    {
     "data": {
      "text/plain": [
       "273"
      ]
     },
     "execution_count": 46,
     "metadata": {},
     "output_type": "execute_result"
    }
   ],
   "source": [
    "#create unmatched df to check for missing data\n",
    "unmatched_df = pd.merge(questions_df, subject_matter_df, on='Filename', how='outer', indicator=True)\n",
    "unmatched_rows = unmatched_df[unmatched_df['_merge'] != 'both']\n",
    "len(unmatched_rows)"
   ]
  },
  {
   "cell_type": "code",
   "execution_count": 47,
   "metadata": {},
   "outputs": [
    {
     "name": "stdout",
     "output_type": "stream",
     "text": [
      "filename questions_missing.txt; count 141\n",
      "filename subject_missing.txt; count 339\n"
     ]
    }
   ],
   "source": [
    "#see how missingness is distributed according to the files\n",
    "missing_data = []\n",
    "\n",
    "for file in os.listdir(data_directory):\n",
    "    # Read the txt file into a dataframe\n",
    "    if file.endswith('.txt'):\n",
    "        with open(data_directory + file, 'r') as text:\n",
    "            data = pd.read_csv(text, sep=' ',header=None)\n",
    "            missing_data.append(data)\n",
    "            print(f'filename {file}; count {len(data)}')"
   ]
  },
  {
   "cell_type": "code",
   "execution_count": 48,
   "metadata": {},
   "outputs": [],
   "source": [
    "questions_missing = missing_data[0]\n",
    "subject_missing = missing_data[1]"
   ]
  },
  {
   "cell_type": "code",
   "execution_count": 29,
   "metadata": {},
   "outputs": [],
   "source": [
    "#merge togehter the missing data to see if it affects both files or just one for a case\n",
    "x = pd.merge(subject_missing, questions_missing, on=0, how='outer', indicator=True)"
   ]
  },
  {
   "cell_type": "code",
   "execution_count": 30,
   "metadata": {},
   "outputs": [],
   "source": [
    "x.rename(columns={0: 'Filename'}, inplace=True)"
   ]
  },
  {
   "cell_type": "code",
   "execution_count": 33,
   "metadata": {},
   "outputs": [],
   "source": [
    "#use these lists to manually check data quality\n",
    "both = x[x['_merge'] == 'both']\n",
    "right = x[x['_merge'] == 'right_only']\n",
    "left = x[x['_merge'] == 'left_only']"
   ]
  },
  {
   "cell_type": "markdown",
   "metadata": {},
   "source": [
    "### Data Processing"
   ]
  },
  {
   "cell_type": "code",
   "execution_count": 52,
   "metadata": {},
   "outputs": [],
   "source": [
    "df = df.rename(columns={'Word Count_x': 'Question_Count', 'Word Count_y': 'Subject_Matter_Count'})\n"
   ]
  },
  {
   "cell_type": "code",
   "execution_count": 81,
   "metadata": {},
   "outputs": [],
   "source": [
    "#remove whitespace\n",
    "df['Questions'] = df['Questions'].str.strip()\n",
    "df['Subject Matter'] = df['Subject Matter'].str.strip()"
   ]
  },
  {
   "cell_type": "code",
   "execution_count": 82,
   "metadata": {},
   "outputs": [],
   "source": [
    "#remove repeat phrases\n",
    "df['Subject Matter'] = df['Subject Matter'].str.replace('THE FACTS\\n', '')\n",
    "df['Subject Matter'] = df['Subject Matter'].str.replace('\\n', '')\n",
    "df['Questions'] = df['Questions'].str.replace('\\n', '')"
   ]
  },
  {
   "cell_type": "code",
   "execution_count": 83,
   "metadata": {},
   "outputs": [],
   "source": [
    "#link outcome label\n",
    "labels = pd.read_csv(data_directory + 'importance_labels.csv')\n",
    "labels = labels.rename(columns={'itemid':'Filename'})"
   ]
  },
  {
   "cell_type": "code",
   "execution_count": 84,
   "metadata": {},
   "outputs": [],
   "source": [
    "df = pd.merge(df, labels, on='Filename')"
   ]
  },
  {
   "cell_type": "code",
   "execution_count": 45,
   "metadata": {},
   "outputs": [
    {
     "data": {
      "text/html": [
       "<div>\n",
       "<style scoped>\n",
       "    .dataframe tbody tr th:only-of-type {\n",
       "        vertical-align: middle;\n",
       "    }\n",
       "\n",
       "    .dataframe tbody tr th {\n",
       "        vertical-align: top;\n",
       "    }\n",
       "\n",
       "    .dataframe thead th {\n",
       "        text-align: right;\n",
       "    }\n",
       "</style>\n",
       "<table border=\"1\" class=\"dataframe\">\n",
       "  <thead>\n",
       "    <tr style=\"text-align: right;\">\n",
       "      <th></th>\n",
       "      <th>Filename</th>\n",
       "      <th>Questions</th>\n",
       "      <th>Subject Matter</th>\n",
       "      <th>appno</th>\n",
       "      <th>source_file</th>\n",
       "      <th>importance</th>\n",
       "    </tr>\n",
       "  </thead>\n",
       "  <tbody>\n",
       "  </tbody>\n",
       "</table>\n",
       "</div>"
      ],
      "text/plain": [
       "Empty DataFrame\n",
       "Columns: [Filename, Questions, Subject Matter, appno, source_file, importance]\n",
       "Index: []"
      ]
     },
     "execution_count": 45,
     "metadata": {},
     "output_type": "execute_result"
    }
   ],
   "source": [
    "df[df['appno'] == '29233/15']"
   ]
  },
  {
   "cell_type": "code",
   "execution_count": 121,
   "metadata": {},
   "outputs": [],
   "source": [
    "# check importance counts\n",
    "importance_counts = df['importance'].value_counts()\n"
   ]
  },
  {
   "cell_type": "code",
   "execution_count": 122,
   "metadata": {},
   "outputs": [],
   "source": [
    "importance_counts = pd.DataFrame(importance_counts)"
   ]
  },
  {
   "cell_type": "code",
   "execution_count": 130,
   "metadata": {},
   "outputs": [],
   "source": [
    "importance_counts['pct'] = importance_counts.apply(lambda x: x / x.sum())"
   ]
  },
  {
   "cell_type": "code",
   "execution_count": 138,
   "metadata": {},
   "outputs": [],
   "source": [
    "importance_counts['sample_cases'] = importance_counts['pct'].apply(lambda x: round(x * 50))"
   ]
  },
  {
   "cell_type": "code",
   "execution_count": 139,
   "metadata": {},
   "outputs": [
    {
     "data": {
      "text/html": [
       "<div>\n",
       "<style scoped>\n",
       "    .dataframe tbody tr th:only-of-type {\n",
       "        vertical-align: middle;\n",
       "    }\n",
       "\n",
       "    .dataframe tbody tr th {\n",
       "        vertical-align: top;\n",
       "    }\n",
       "\n",
       "    .dataframe thead th {\n",
       "        text-align: right;\n",
       "    }\n",
       "</style>\n",
       "<table border=\"1\" class=\"dataframe\">\n",
       "  <thead>\n",
       "    <tr style=\"text-align: right;\">\n",
       "      <th></th>\n",
       "      <th>count</th>\n",
       "      <th>pct</th>\n",
       "      <th>sample_cases</th>\n",
       "    </tr>\n",
       "    <tr>\n",
       "      <th>importance</th>\n",
       "      <th></th>\n",
       "      <th></th>\n",
       "      <th></th>\n",
       "    </tr>\n",
       "  </thead>\n",
       "  <tbody>\n",
       "    <tr>\n",
       "      <th>4</th>\n",
       "      <td>5680</td>\n",
       "      <td>0.812009</td>\n",
       "      <td>41</td>\n",
       "    </tr>\n",
       "    <tr>\n",
       "      <th>3</th>\n",
       "      <td>1132</td>\n",
       "      <td>0.161830</td>\n",
       "      <td>8</td>\n",
       "    </tr>\n",
       "    <tr>\n",
       "      <th>1</th>\n",
       "      <td>150</td>\n",
       "      <td>0.021444</td>\n",
       "      <td>1</td>\n",
       "    </tr>\n",
       "    <tr>\n",
       "      <th>2</th>\n",
       "      <td>33</td>\n",
       "      <td>0.004718</td>\n",
       "      <td>0</td>\n",
       "    </tr>\n",
       "  </tbody>\n",
       "</table>\n",
       "</div>"
      ],
      "text/plain": [
       "            count       pct  sample_cases\n",
       "importance                               \n",
       "4            5680  0.812009            41\n",
       "3            1132  0.161830             8\n",
       "1             150  0.021444             1\n",
       "2              33  0.004718             0"
      ]
     },
     "execution_count": 139,
     "metadata": {},
     "output_type": "execute_result"
    }
   ],
   "source": [
    "importance_counts"
   ]
  },
  {
   "cell_type": "code",
   "execution_count": 144,
   "metadata": {},
   "outputs": [],
   "source": [
    "def sampleHelper(df, importance, size):\n",
    "\n",
    "    return df[df['importance'] == importance].sample(size, random_state=154)"
   ]
  },
  {
   "cell_type": "code",
   "execution_count": 157,
   "metadata": {},
   "outputs": [],
   "source": [
    "def sample(df):\n",
    "\n",
    "    sample_list = []\n",
    "\n",
    "    for imp in df['importance'].unique():\n",
    "        if imp == 1:\n",
    "            sample_list.append(sampleHelper(df, imp, 6))\n",
    "        elif imp == 2:\n",
    "            sample_list.append(sampleHelper(df, imp, 6))\n",
    "        elif imp == 3:\n",
    "            sample_list.append(sampleHelper(df, imp, 11))\n",
    "        else:\n",
    "            sample_list.append(sampleHelper(df, imp, 31))\n",
    "\n",
    "    return pd.concat(sample_list)"
   ]
  },
  {
   "cell_type": "code",
   "execution_count": 162,
   "metadata": {},
   "outputs": [],
   "source": [
    "sample_df = sample(df)"
   ]
  },
  {
   "cell_type": "code",
   "execution_count": 169,
   "metadata": {},
   "outputs": [],
   "source": [
    "valid_data = sample_df[['Filename','Questions','Subject Matter','importance']]"
   ]
  },
  {
   "cell_type": "code",
   "execution_count": 165,
   "metadata": {},
   "outputs": [],
   "source": [
    "test_data = df.drop(sample_df.index)\n",
    "test_data = test_data[['Filename','Questions','Subject Matter','importance']]"
   ]
  },
  {
   "cell_type": "code",
   "execution_count": 85,
   "metadata": {},
   "outputs": [
    {
     "data": {
      "text/html": [
       "<div>\n",
       "<style scoped>\n",
       "    .dataframe tbody tr th:only-of-type {\n",
       "        vertical-align: middle;\n",
       "    }\n",
       "\n",
       "    .dataframe tbody tr th {\n",
       "        vertical-align: top;\n",
       "    }\n",
       "\n",
       "    .dataframe thead th {\n",
       "        text-align: right;\n",
       "    }\n",
       "</style>\n",
       "<table border=\"1\" class=\"dataframe\">\n",
       "  <thead>\n",
       "    <tr style=\"text-align: right;\">\n",
       "      <th></th>\n",
       "      <th>Filename</th>\n",
       "      <th>Questions</th>\n",
       "      <th>Subject Matter</th>\n",
       "      <th>appno</th>\n",
       "      <th>source_file</th>\n",
       "      <th>importance</th>\n",
       "    </tr>\n",
       "  </thead>\n",
       "  <tbody>\n",
       "    <tr>\n",
       "      <th>0</th>\n",
       "      <td>001-109309</td>\n",
       "      <td>1. In the light of the applicants’ claims and ...</td>\n",
       "      <td>The applicants, M.M., his wife and a minor chi...</td>\n",
       "      <td>72861/11</td>\n",
       "      <td>pruned_ADMISSIBILITY_meta.json</td>\n",
       "      <td>4</td>\n",
       "    </tr>\n",
       "    <tr>\n",
       "      <th>1</th>\n",
       "      <td>001-109315</td>\n",
       "      <td>1. Did the applicant have a fair hearing in th...</td>\n",
       "      <td>The applicant, Mr Aurelian Anghel, is a Romani...</td>\n",
       "      <td>5968/09</td>\n",
       "      <td>pruned_CHAMBER_meta.json</td>\n",
       "      <td>4</td>\n",
       "    </tr>\n",
       "    <tr>\n",
       "      <th>2</th>\n",
       "      <td>001-109317</td>\n",
       "      <td>1. Has there been a violation of the applicant...</td>\n",
       "      <td>The applicant, Mr Vladimirs Oderovs, is a Latv...</td>\n",
       "      <td>21979/08</td>\n",
       "      <td>pruned_COMMITTEE_meta.json</td>\n",
       "      <td>4</td>\n",
       "    </tr>\n",
       "    <tr>\n",
       "      <th>3</th>\n",
       "      <td>001-109386</td>\n",
       "      <td>1. Has there been a violation of Article 6 § 1...</td>\n",
       "      <td>1. The applicant, Mr Victor Sandu, is a Moldov...</td>\n",
       "      <td>16463/08</td>\n",
       "      <td>pruned_CHAMBER_meta.json</td>\n",
       "      <td>3</td>\n",
       "    </tr>\n",
       "    <tr>\n",
       "      <th>4</th>\n",
       "      <td>001-109387</td>\n",
       "      <td>Has there been a violation of Article 3 of the...</td>\n",
       "      <td>1. The applicant, Mr Sergiu Buhaniuc, is a Mol...</td>\n",
       "      <td>56074/10</td>\n",
       "      <td>pruned_CHAMBER_meta.json</td>\n",
       "      <td>4</td>\n",
       "    </tr>\n",
       "    <tr>\n",
       "      <th>...</th>\n",
       "      <td>...</td>\n",
       "      <td>...</td>\n",
       "      <td>...</td>\n",
       "      <td>...</td>\n",
       "      <td>...</td>\n",
       "      <td>...</td>\n",
       "    </tr>\n",
       "    <tr>\n",
       "      <th>6990</th>\n",
       "      <td>001-229304</td>\n",
       "      <td>1. Has there been a violation of the applicant...</td>\n",
       "      <td>The applicants are Italian nationals, living i...</td>\n",
       "      <td>54648/21</td>\n",
       "      <td>pruned_ADMISSIBILITYCOM_meta.json</td>\n",
       "      <td>4</td>\n",
       "    </tr>\n",
       "    <tr>\n",
       "      <th>6991</th>\n",
       "      <td>001-229359</td>\n",
       "      <td>Has there been a violation of Article 5 § 3 of...</td>\n",
       "      <td>The applicant’s pre-trial detention, which sta...</td>\n",
       "      <td>9573/23</td>\n",
       "      <td>pruned_ADMISSIBILITYCOM_meta.json</td>\n",
       "      <td>4</td>\n",
       "    </tr>\n",
       "    <tr>\n",
       "      <th>6992</th>\n",
       "      <td>001-229708</td>\n",
       "      <td>Has the applicant suffered discrimination in t...</td>\n",
       "      <td>The application concerns the refusal to grant ...</td>\n",
       "      <td>19191/19</td>\n",
       "      <td>pruned_ADMISSIBILITYCOM_meta.json</td>\n",
       "      <td>4</td>\n",
       "    </tr>\n",
       "    <tr>\n",
       "      <th>6993</th>\n",
       "      <td>001-229713</td>\n",
       "      <td>Has the applicant suffered a violation of Arti...</td>\n",
       "      <td>By a judgment of 29 November 2016, the La Spez...</td>\n",
       "      <td>53715/20</td>\n",
       "      <td>pruned_ADMISSIBILITYCOM_meta.json</td>\n",
       "      <td>4</td>\n",
       "    </tr>\n",
       "    <tr>\n",
       "      <th>6994</th>\n",
       "      <td>001-229717</td>\n",
       "      <td>1. Did the dismissal of the appeals by the Cou...</td>\n",
       "      <td>The applications concern the decisions of the ...</td>\n",
       "      <td>909/21;23706/22;27751/22</td>\n",
       "      <td>pruned_ADMISSIBILITYCOM_meta.json</td>\n",
       "      <td>4</td>\n",
       "    </tr>\n",
       "  </tbody>\n",
       "</table>\n",
       "<p>6995 rows × 6 columns</p>\n",
       "</div>"
      ],
      "text/plain": [
       "        Filename                                          Questions  \\\n",
       "0     001-109309  1. In the light of the applicants’ claims and ...   \n",
       "1     001-109315  1. Did the applicant have a fair hearing in th...   \n",
       "2     001-109317  1. Has there been a violation of the applicant...   \n",
       "3     001-109386  1. Has there been a violation of Article 6 § 1...   \n",
       "4     001-109387  Has there been a violation of Article 3 of the...   \n",
       "...          ...                                                ...   \n",
       "6990  001-229304  1. Has there been a violation of the applicant...   \n",
       "6991  001-229359  Has there been a violation of Article 5 § 3 of...   \n",
       "6992  001-229708  Has the applicant suffered discrimination in t...   \n",
       "6993  001-229713  Has the applicant suffered a violation of Arti...   \n",
       "6994  001-229717  1. Did the dismissal of the appeals by the Cou...   \n",
       "\n",
       "                                         Subject Matter  \\\n",
       "0     The applicants, M.M., his wife and a minor chi...   \n",
       "1     The applicant, Mr Aurelian Anghel, is a Romani...   \n",
       "2     The applicant, Mr Vladimirs Oderovs, is a Latv...   \n",
       "3     1. The applicant, Mr Victor Sandu, is a Moldov...   \n",
       "4     1. The applicant, Mr Sergiu Buhaniuc, is a Mol...   \n",
       "...                                                 ...   \n",
       "6990  The applicants are Italian nationals, living i...   \n",
       "6991  The applicant’s pre-trial detention, which sta...   \n",
       "6992  The application concerns the refusal to grant ...   \n",
       "6993  By a judgment of 29 November 2016, the La Spez...   \n",
       "6994  The applications concern the decisions of the ...   \n",
       "\n",
       "                         appno                        source_file  importance  \n",
       "0                     72861/11     pruned_ADMISSIBILITY_meta.json           4  \n",
       "1                      5968/09           pruned_CHAMBER_meta.json           4  \n",
       "2                     21979/08         pruned_COMMITTEE_meta.json           4  \n",
       "3                     16463/08           pruned_CHAMBER_meta.json           3  \n",
       "4                     56074/10           pruned_CHAMBER_meta.json           4  \n",
       "...                        ...                                ...         ...  \n",
       "6990                  54648/21  pruned_ADMISSIBILITYCOM_meta.json           4  \n",
       "6991                   9573/23  pruned_ADMISSIBILITYCOM_meta.json           4  \n",
       "6992                  19191/19  pruned_ADMISSIBILITYCOM_meta.json           4  \n",
       "6993                  53715/20  pruned_ADMISSIBILITYCOM_meta.json           4  \n",
       "6994  909/21;23706/22;27751/22  pruned_ADMISSIBILITYCOM_meta.json           4  \n",
       "\n",
       "[6995 rows x 6 columns]"
      ]
     },
     "execution_count": 85,
     "metadata": {},
     "output_type": "execute_result"
    }
   ],
   "source": [
    "df"
   ]
  },
  {
   "cell_type": "markdown",
   "metadata": {},
   "source": [
    "### GPT Tests"
   ]
  },
  {
   "cell_type": "code",
   "execution_count": 11,
   "metadata": {},
   "outputs": [],
   "source": [
    "import os\n",
    "os.chdir('./volatile/ECHR_Importance')"
   ]
  },
  {
   "cell_type": "code",
   "execution_count": 12,
   "metadata": {},
   "outputs": [],
   "source": [
    "from API_key import openai_key\n",
    "from openai import OpenAI\n",
    "client = OpenAI(api_key=openai_key)"
   ]
  },
  {
   "cell_type": "code",
   "execution_count": 96,
   "metadata": {},
   "outputs": [],
   "source": [
    "# read in data\n",
    "df = pd.read_pickle('valid_data.pkl')"
   ]
  },
  {
   "cell_type": "code",
   "execution_count": 100,
   "metadata": {},
   "outputs": [],
   "source": [
    "df_main = df[:-4]\n",
    "df_examples = df[-4:]"
   ]
  },
  {
   "cell_type": "code",
   "execution_count": 273,
   "metadata": {},
   "outputs": [],
   "source": [
    "JSON_SCHEMAS = [{\"Case Importance\":\"int (1-4)\",\"Summary\":\"string (description of the case)\",\"Reasoning\":\"string (give your reason for the importance)\" },\n",
    "                {\"Case Importance\":\"int (1-4)\"}\n",
    "                ]"
   ]
  },
  {
   "cell_type": "code",
   "execution_count": null,
   "metadata": {},
   "outputs": [],
   "source": [
    "#To Do:\n",
    "#- explore different roles\n",
    "#- explore different prompts both few-shot and zero-shot\n",
    "#- explore different temperature and max_tokens\n",
    "#- \n",
    "\n",
    "### Experiment 1: What does GPT-4 know about the ECtHR? Give it the case id and appNo and see if it knows the importance of the case already...\n",
    "#TO DO:\n",
    "## Write the classification code\n",
    "## Write the code\n",
    "## COST it\n",
    "\n",
    "### Experiment 2: Prediction of the importance of the case based on the questions and subject matter\n",
    "#TO DO:\n",
    "## Write the code - inc processing the JSON responses and saving them\n",
    "## COST it"
   ]
  },
  {
   "cell_type": "markdown",
   "metadata": {},
   "source": [
    "##### Experiment 1"
   ]
  },
  {
   "cell_type": "code",
   "execution_count": 106,
   "metadata": {},
   "outputs": [],
   "source": [
    "metadata = pd.read_json('/users/sgdbareh/volatile/ECHR_Importance/Data/overlap_cases/pruned_COMMUNICATEDCASES_meta.json',lines=True)"
   ]
  },
  {
   "cell_type": "code",
   "execution_count": 115,
   "metadata": {},
   "outputs": [],
   "source": [
    "metadata.rename(columns={'itemid':'Filename'}, inplace=True)"
   ]
  },
  {
   "cell_type": "code",
   "execution_count": 305,
   "metadata": {},
   "outputs": [],
   "source": [
    "exp1_data = pd.merge(df_main, metadata, on='Filename')"
   ]
  },
  {
   "cell_type": "code",
   "execution_count": 118,
   "metadata": {},
   "outputs": [
    {
     "data": {
      "text/plain": [
       "Index(['Filename', 'Questions', 'Subject Matter', 'importance_x',\n",
       "       'kpthesaurus', 'meetingnumber', 'resolutionnumber', 'conclusion', 'scl',\n",
       "       'violation', 'ecli', 'application', 'languagenumber', 'sclappnos',\n",
       "       'nonviolation', 'judgementdate', 'externalsources', 'doctype',\n",
       "       'advopstatus', 'referencedate', 'doctypebranch', 'extractedappno',\n",
       "       'advopidentifier', 'reportdate', 'kpdate', 'applicability',\n",
       "       'representedby', 'appnoparts', 'docname', 'publishedby',\n",
       "       'introductiondate', 'isplaceholder', 'rulesofcourt', 'resolutiondate',\n",
       "       'languageisocode', 'appno', 'documentcollectionid2', 'article',\n",
       "       'decisiondate', 'separateopinion', 'typedescription', 'importance_y',\n",
       "       'respondent', 'originatingbody', 'documentcollectionid', 'issue',\n",
       "       'rank'],\n",
       "      dtype='object')"
      ]
     },
     "execution_count": 118,
     "metadata": {},
     "output_type": "execute_result"
    }
   ],
   "source": [
    "exp1_data.columns"
   ]
  },
  {
   "cell_type": "code",
   "execution_count": 306,
   "metadata": {},
   "outputs": [],
   "source": [
    "exp1_data = exp1_data[['Filename','importance_x','appno','docname']]"
   ]
  },
  {
   "cell_type": "code",
   "execution_count": 307,
   "metadata": {},
   "outputs": [],
   "source": [
    "exp1_data.rename(columns={'importance_x':'importance'}, inplace=True)"
   ]
  },
  {
   "cell_type": "code",
   "execution_count": 284,
   "metadata": {},
   "outputs": [],
   "source": [
    "def exp1_get_prompt(schema, name, appnos, prompt_type='first'):\n",
    "\n",
    "    match prompt_type:\n",
    "        #option to say don't know, no info on HUDOC given\n",
    "        case 'first':\n",
    "            exp1_prompt = f''' You are going to tell me the importance of the cases in the European Court of Human Rights. These values are given to every case after a judgment\n",
    "                or decision has been received. \n",
    "                Using the information given to you tell me the case importance giving a response of either key case, 1, 2 or 3. \n",
    "                If you do not know the importance, state that you do not have enough information.\n",
    "                The output should be given directly in JSON format, with the following schema: {schema}.\n",
    "                The name of the case is {name} and the application number/s is/are {appno}.\n",
    "                '''\n",
    "        #option to say don't know, info on HUDOC given\n",
    "        case 'second':\n",
    "            exp1_prompt = f''' You are going to tell me the importance of the cases in the European Court of Human Rights. These values are given to every case after a judgment\n",
    "                or decision has been received. The case importance is part of the metadata on HUDOC.\n",
    "                Using the information given to you tell me the importance of the case giving a response of either key case, 1, 2 or 3. \n",
    "                If you do not know the importance, state that you do not have enough information.\n",
    "                The output should be given directly in JSON format, with the following schema: {schema}.\n",
    "                The name of the case is {name} and the application number/s is/are {appno}.\n",
    "                '''\n",
    "        #no option to say don't know, info on HUDOC given\n",
    "        case 'third':\n",
    "            exp1_prompt = f''' You are going to tell me the importance of the cases in the European Court of Human Rights. These values are given to every case after a judgment\n",
    "                or decision has been received. The case importance is part of the metadata on HUDOC.\n",
    "                Using the information given to you tell me the importance of the case giving a response of either key case, 1, 2 or 3. \n",
    "                The output should be given directly in JSON format, with the following schema: {schema}.\n",
    "                The name of the case is {name} and the application number/s is/are {appno}.\n",
    "                '''\n",
    "        #no option to say don't know, no info on HUDOC given\n",
    "        case 'fourth':\n",
    "            exp1_prompt = f''' You are going to tell me the importance of the cases in the European Court of Human Rights. These values are given to every case after a judgment\n",
    "                or decision has been received. \n",
    "                Using the information given to you tell me the importance of the case giving a response of either key case, 1, 2 or 3. \n",
    "                The output should be given directly in JSON format, with the following schema: {schema}.\n",
    "                The name of the case is {name} and the application number/s is/are {appno}.\n",
    "                '''\n",
    "        #demands LLM to use HUDOC information, no option to say don't know\n",
    "        case 'fifth':\n",
    "            exp1_prompt = f''' You are going to tell me the importance of the cases in the European Court of Human Rights.\n",
    "                Find the information from HUDOC and tell me the importance of the case giving a response of either key case, 1, 2 or 3. \n",
    "                The output should be given directly in JSON format, with the following schema: {schema}.\n",
    "                The name of the case is {name} and the application number/s is/are {appno}.\n",
    "                '''\n",
    "\n",
    "    return exp1_prompt"
   ]
  },
  {
   "cell_type": "code",
   "execution_count": 336,
   "metadata": {},
   "outputs": [
    {
     "data": {
      "text/plain": [
       "1"
      ]
     },
     "execution_count": 336,
     "metadata": {},
     "output_type": "execute_result"
    }
   ],
   "source": [
    "exp1_data.index[1]"
   ]
  },
  {
   "cell_type": "code",
   "execution_count": 162,
   "metadata": {},
   "outputs": [],
   "source": [
    "test_case = exp1_data.iloc[0]"
   ]
  },
  {
   "cell_type": "code",
   "execution_count": 163,
   "metadata": {},
   "outputs": [
    {
     "data": {
      "text/plain": [
       "Filename                 001-179979\n",
       "importance                        4\n",
       "appno                      73487/12\n",
       "docname       TAŞ (ÇAKAR) v. TURKEY\n",
       "Name: 0, dtype: object"
      ]
     },
     "execution_count": 163,
     "metadata": {},
     "output_type": "execute_result"
    }
   ],
   "source": [
    "test_case"
   ]
  },
  {
   "cell_type": "code",
   "execution_count": 331,
   "metadata": {},
   "outputs": [],
   "source": [
    "prompt_exp1 = exp1_get_prompt(JSON_SCHEMAS[1], test_case['docname'], test_case['appno'],'first')"
   ]
  },
  {
   "cell_type": "code",
   "execution_count": 296,
   "metadata": {},
   "outputs": [
    {
     "data": {
      "text/plain": [
       "\" You are going to tell me the importance of the cases in the European Court of Human Rights. These values are given to every case after a judgment\\n                or decision has been received. The case importance is part of the metadata on HUDOC.\\n                Using the information given to you tell me the importance of the case giving a response of either key case, 1, 2 or 3. \\n                The output should be given directly in JSON format, with the following schema: {'Case Importance': 'int (1-4)', 'Summary': 'string (description of the case)', 'Reasoning': 'string (give your reason for the importance)'}.\\n                The name of the case is TAŞ (ÇAKAR) v. TURKEY and the application number/s is/are 6697/18.\\n                \""
      ]
     },
     "execution_count": 296,
     "metadata": {},
     "output_type": "execute_result"
    }
   ],
   "source": [
    "prompt_exp1"
   ]
  },
  {
   "cell_type": "code",
   "execution_count": 332,
   "metadata": {},
   "outputs": [],
   "source": [
    "response = client.chat.completions.create(\n",
    "  model=\"gpt-4o\",\n",
    "  messages=[{\"role\": \"user\", \"content\": prompt_exp1}],\n",
    "  response_format={'type': 'json_object'},\n",
    "  max_tokens=500,\n",
    "  temperature=0\n",
    ")"
   ]
  },
  {
   "cell_type": "code",
   "execution_count": 333,
   "metadata": {},
   "outputs": [
    {
     "data": {
      "text/plain": [
       "ChatCompletion(id='chatcmpl-9brm8VjQpd6MMvtgh1pg6yYaNrK7N', choices=[Choice(finish_reason='stop', index=0, logprobs=None, message=ChatCompletionMessage(content='{\\n  \"Case Importance\": \"I do not have enough information\"\\n}', role='assistant', function_call=None, tool_calls=None))], created=1718811876, model='gpt-4o-2024-05-13', object='chat.completion', system_fingerprint='fp_f4e629d0a5', usage=CompletionUsage(completion_tokens=15, prompt_tokens=155, total_tokens=170))"
      ]
     },
     "execution_count": 333,
     "metadata": {},
     "output_type": "execute_result"
    }
   ],
   "source": [
    "response"
   ]
  },
  {
   "cell_type": "code",
   "execution_count": 298,
   "metadata": {},
   "outputs": [],
   "source": [
    "x = response.choices[0].message.content"
   ]
  },
  {
   "cell_type": "code",
   "execution_count": 299,
   "metadata": {},
   "outputs": [],
   "source": [
    "try:\n",
    "    data = json.loads(x)\n",
    "except (json.JSONDecodeError, IndexError):\n",
    "    raise IndexError(f'Error in decoding JSON response: {x}')"
   ]
  },
  {
   "cell_type": "code",
   "execution_count": 320,
   "metadata": {},
   "outputs": [],
   "source": [
    "test_df = pd.DataFrame()"
   ]
  },
  {
   "cell_type": "code",
   "execution_count": 325,
   "metadata": {},
   "outputs": [],
   "source": [
    "# Create a DataFrame from the loaded JSON data\n",
    "temp_df = pd.DataFrame(data,index=[0])\n",
    "\n",
    "# Concatenate the DataFrame to 'test_df'\n",
    "test_df = pd.concat([test_df, temp_df], ignore_index=True)\n"
   ]
  },
  {
   "cell_type": "code",
   "execution_count": 301,
   "metadata": {},
   "outputs": [
    {
     "data": {
      "text/html": [
       "<div>\n",
       "<style scoped>\n",
       "    .dataframe tbody tr th:only-of-type {\n",
       "        vertical-align: middle;\n",
       "    }\n",
       "\n",
       "    .dataframe tbody tr th {\n",
       "        vertical-align: top;\n",
       "    }\n",
       "\n",
       "    .dataframe thead th {\n",
       "        text-align: right;\n",
       "    }\n",
       "</style>\n",
       "<table border=\"1\" class=\"dataframe\">\n",
       "  <thead>\n",
       "    <tr style=\"text-align: right;\">\n",
       "      <th></th>\n",
       "      <th>Case Importance</th>\n",
       "      <th>Summary</th>\n",
       "      <th>Reasoning</th>\n",
       "    </tr>\n",
       "  </thead>\n",
       "  <tbody>\n",
       "    <tr>\n",
       "      <th>0</th>\n",
       "      <td>2</td>\n",
       "      <td>The case TAŞ (ÇAKAR) v. TURKEY (application nu...</td>\n",
       "      <td>The case has been assigned an importance level...</td>\n",
       "    </tr>\n",
       "  </tbody>\n",
       "</table>\n",
       "</div>"
      ],
      "text/plain": [
       "   Case Importance                                            Summary  \\\n",
       "0                2  The case TAŞ (ÇAKAR) v. TURKEY (application nu...   \n",
       "\n",
       "                                           Reasoning  \n",
       "0  The case has been assigned an importance level...  "
      ]
     },
     "execution_count": 301,
     "metadata": {},
     "output_type": "execute_result"
    }
   ],
   "source": [
    "\n",
    "pd.DataFrame(data, index=[0])"
   ]
  },
  {
   "cell_type": "code",
   "execution_count": 328,
   "metadata": {},
   "outputs": [
    {
     "data": {
      "text/html": [
       "<div>\n",
       "<style scoped>\n",
       "    .dataframe tbody tr th:only-of-type {\n",
       "        vertical-align: middle;\n",
       "    }\n",
       "\n",
       "    .dataframe tbody tr th {\n",
       "        vertical-align: top;\n",
       "    }\n",
       "\n",
       "    .dataframe thead th {\n",
       "        text-align: right;\n",
       "    }\n",
       "</style>\n",
       "<table border=\"1\" class=\"dataframe\">\n",
       "  <thead>\n",
       "    <tr style=\"text-align: right;\">\n",
       "      <th></th>\n",
       "      <th>Case Importance</th>\n",
       "      <th>Summary</th>\n",
       "      <th>Reasoning</th>\n",
       "    </tr>\n",
       "  </thead>\n",
       "  <tbody>\n",
       "    <tr>\n",
       "      <th>0</th>\n",
       "      <td>3</td>\n",
       "      <td>The case TAŞ (ÇAKAR) v. TURKEY, application nu...</td>\n",
       "      <td>Based on the information provided, there is no...</td>\n",
       "    </tr>\n",
       "    <tr>\n",
       "      <th>1</th>\n",
       "      <td>I do not have enough information</td>\n",
       "      <td>The case KRDŽALIJA AND OTHERS v. MONTENEGRO wi...</td>\n",
       "      <td>The importance of the case is determined based...</td>\n",
       "    </tr>\n",
       "  </tbody>\n",
       "</table>\n",
       "</div>"
      ],
      "text/plain": [
       "                    Case Importance  \\\n",
       "0                                 3   \n",
       "1  I do not have enough information   \n",
       "\n",
       "                                             Summary  \\\n",
       "0  The case TAŞ (ÇAKAR) v. TURKEY, application nu...   \n",
       "1  The case KRDŽALIJA AND OTHERS v. MONTENEGRO wi...   \n",
       "\n",
       "                                           Reasoning  \n",
       "0  Based on the information provided, there is no...  \n",
       "1  The importance of the case is determined based...  "
      ]
     },
     "execution_count": 328,
     "metadata": {},
     "output_type": "execute_result"
    }
   ],
   "source": [
    "#evaluation of json files\n",
    "pd.read_pickle('exp_1_output.pkl')"
   ]
  },
  {
   "cell_type": "markdown",
   "metadata": {},
   "source": [
    "##### Experiment 2"
   ]
  },
  {
   "cell_type": "code",
   "execution_count": 132,
   "metadata": {},
   "outputs": [],
   "source": [
    "JSON_SCHEMAS = [{\n",
    "    \"Case Importance\": {\"Importance\":\"int (1-4)\",\"Summary\":\"string (description of the case)\",\"Reasoning\":\"string (give your reason for the importance)\" }},\n",
    "    {\"Case Importance\": {\"Importance\":\"int (1-4)\"}}]"
   ]
  },
  {
   "cell_type": "code",
   "execution_count": 217,
   "metadata": {},
   "outputs": [],
   "source": [
    "def get_prompt(row, zero_shot:bool =True, text:int = 3, examples:list = [], schema:dict = JSON_SCHEMAS[1]):\n",
    "\n",
    "    '''\n",
    "    Function to generate a prompt for the GPT-4o model.\n",
    "    \n",
    "    Parameters: \n",
    "    row: pd.Series\n",
    "        A row from the dataframe containing the data.\n",
    "    zero_shot: bool\n",
    "        A boolean to determine if the prompt is for zero-shot learning.\n",
    "    text: int\n",
    "        The section/s of the text to include in the prompt:\n",
    "            1 = Subject Matter\n",
    "            2 = Questions\n",
    "            3 = Both\n",
    "    examples: list\n",
    "        A list of the examples to include in the prompt.\n",
    "        \n",
    "    Returns:\n",
    "    prompt: str\n",
    "        The prompt to be used for the GPT-4o model.\n",
    "    '''\n",
    "\n",
    "    match text:\n",
    "        case 1:\n",
    "            text = row['Subject Matter']\n",
    "            text_amount = 'subject matter of the case'\n",
    "        case 2:\n",
    "            text = row['Questions']\n",
    "            text_amount = 'questions asked to the parties'\n",
    "        case 3:\n",
    "            text = row['Subject Matter'] + ' ' + row['Questions']\n",
    "            text_amount = 'subject matter of the case and the questions asked to the parties'\n",
    "        case _:\n",
    "            raise ValueError('Invalid text value. Please enter a value between 1 and 3.')\n",
    "\n",
    "    if zero_shot:\n",
    "        additional_context = ''\n",
    "    else:\n",
    "        #examples = [f'Importance: {i}\\n{e}' for i, e in zip(row['importance'], examples)]\n",
    "        additional_context = f'''You are also given a number of examples for each level of importance. \n",
    "                                 1: {examples[0]}; 2: {examples[1]}; 3: {examples[2]}; 4: {examples[3]}'''\n",
    "\n",
    "    importance_levels = '''1: These are the most important and have been selected as key cases and have been selected for publication in the Court\\'s official reports; \n",
    "                           2: The case is of high importance. The case makes a significant contribution to the development, clarification or modification of its case law, either generally or in relation to a particular case; \n",
    "                           3: The case is of medium importance. The case while not making a significant contribution to the case-law, nevertheless it goes beyond merely applying existing case law; \n",
    "                           4: The case is of low importance. The case is of limited interest and simply applies existing case law'''\n",
    "    \n",
    "    prompt = f''' You are a lawyer in the European Court of Human Rights, and your goal is to predict the importance of a case, based on information provided from a communicated case. \n",
    "    The following information is provided to you:\n",
    "    You will be given a communicated case, including the {text_amount}.\n",
    "    You are given a description of the different levels of importance: {importance_levels}.\n",
    "    {additional_context}.\n",
    "    Based only on the information given to you predict the importance of the case according to the criteria given, giving a response of either 1, 2, 3 or 4. \n",
    "    If you do not have enough information to make a prediction, state that you do not have enough information.\n",
    "    The output should be given directly in JSON format, with the following schema: {schema}.\n",
    "    The communicated case information you should base your judgement on is as follows: {text}.\n",
    "    '''\n",
    "\n",
    "    return prompt"
   ]
  },
  {
   "cell_type": "code",
   "execution_count": 222,
   "metadata": {},
   "outputs": [],
   "source": [
    "#basic test\n",
    "prompt = get_prompt(df.iloc[0],True,3,schema=JSON_SCHEMAS[0])"
   ]
  },
  {
   "cell_type": "code",
   "execution_count": 223,
   "metadata": {},
   "outputs": [
    {
     "data": {
      "text/plain": [
       "\"You are a lawyer in the European Court of Human Rights, and your goal is to predict the importance of a case, based on information provided from a communicated case. \\n    The following information is provided to you:\\n    You will be given a communicated case, including the subject matter of the case and the questions asked to the parties.\\n    You are given a description of the different levels of importance: 1: These are the most important and have been selected as key cases and have been selected for publication in the Court's official reports; \\n                           2: The case is of high importance. The case makes a significant contribution to the development, clarification or modification of its case law, either generally or in relation to a particular case; \\n                           3: The case is of medium importance. The case while not making a significant contribution to the case-law, nevertheless it goes beyond merely applying existing case law; \\n                           4: The case is of low importance. The case is of limited interest and simply applies existing case law.\\n    .\\n    Based only on the information given to you predict the importance of the case according to the criteria given, giving a response of either 1, 2, 3 or 4. \\n    If you do not have enough information to make a prediction, state that you do not have enough information.\\n    Please also give your reason for the prediction.\\n    The output should be given directly in JSON format, with the following schema: {'Case Importance': {'Importance': 'int (1-4)', 'Summary': 'string (description of the case)', 'Reasoning': 'string (the reason for the importance)'}}.\\n    The communicated case information you should base your judgement on is as follows: The applicant is a Turkish national who was born in 1985 and lives in Elazığ. The application concerns the criminal proceedings brought against the applicant for disseminating propaganda in favour of the MLKP (Marxist-Leninist Communist Party), an illegal armed organisation, under section 7 § 2 of the Prevention of Terrorism Act (Law no. 3713), on account of her participation in the International Workers’ Day demonstration organised by the KESK (Kamu Emekçileri Sendikaları Konfederasyonu – Confederation of Public Employees’ Trade Unions) and held on 1 May 2006 in Elazığ. On 19 January 2012 the applicant was sentenced to ten months’ imprisonment by the Malatya Assize Court and, the pronouncement of her conviction was suspended on the condition that she did not commit another intentional offence for a period of five years, under Article 231 of the Code of Criminal Procedure (hükmün açıklanmasının geri bırakılması). The applicant’s objection was dismissed on 27 March 2012. The applicant relies on Articles 6, 10 and 11 of the Convention. Has there been a violation of the applicant’s right to freedom of expression, contrary to Article 10 of the Convention, or her right to freedom of assembly, contrary to Article 11 of the Convention, on account of her conviction under section 7 § 2 of the Prevention of Terrorism Act? In particular, did the Suruç Criminal Court provide reasons for its decision (see Gülcü v. Turkey, no. 17526/10, §§ 113 and 114, 19 January 2016)?.\""
      ]
     },
     "execution_count": 223,
     "metadata": {},
     "output_type": "execute_result"
    }
   ],
   "source": [
    "prompt.strip()"
   ]
  },
  {
   "cell_type": "code",
   "execution_count": 224,
   "metadata": {},
   "outputs": [],
   "source": [
    "response = client.chat.completions.create(\n",
    "  model=\"gpt-4o\",\n",
    "  messages=[{\"role\": \"user\", \"content\": prompt}],\n",
    "  response_format={'type': 'json_object'},\n",
    "  max_tokens=500,\n",
    "  temperature=0\n",
    "  \n",
    ")"
   ]
  },
  {
   "cell_type": "code",
   "execution_count": 225,
   "metadata": {},
   "outputs": [
    {
     "name": "stdout",
     "output_type": "stream",
     "text": [
      "{\n",
      "  \"Case Importance\": {\n",
      "    \"Importance\": 2,\n",
      "    \"Summary\": \"The applicant, a Turkish national, was convicted for disseminating propaganda in favor of an illegal armed organization during a demonstration. She was sentenced to ten months' imprisonment, with the pronouncement of her conviction suspended on the condition of not committing another intentional offense for five years. The applicant claims violations of her rights under Articles 6, 10, and 11 of the Convention.\",\n",
      "    \"Reasoning\": \"The case raises significant questions regarding the balance between national security concerns and the fundamental rights to freedom of expression and assembly. The reference to a previous case (Gülcü v. Turkey) suggests that this case could contribute to the development or clarification of the Court's case law on these issues, particularly in the context of Turkey's Prevention of Terrorism Act. Therefore, it is of high importance.\"\n",
      "  }\n",
      "}\n"
     ]
    }
   ],
   "source": [
    "print(response.choices[0].message.content)\n"
   ]
  },
  {
   "cell_type": "markdown",
   "metadata": {},
   "source": [
    "#### MONITOR BATCH API"
   ]
  },
  {
   "cell_type": "code",
   "execution_count": 367,
   "metadata": {},
   "outputs": [
    {
     "data": {
      "text/plain": [
       "SyncCursorPage[Batch](data=[Batch(id='batch_mKqY9rqtexQZCZOtGQakwehZ', completion_window='24h', created_at=1718816633, endpoint='/v1/chat/completions', input_file_id='file-QI0yrMIEo031Ugkq7XV7zVQJ', object='batch', status='completed', cancelled_at=None, cancelling_at=None, completed_at=1718816643, error_file_id=None, errors=None, expired_at=None, expires_at=1718903033, failed_at=None, finalizing_at=1718816640, in_progress_at=1718816633, metadata={'description': 'Experiment 1 Valid_4:  experiment_1_third.jsonl'}, output_file_id='file-nggCEpQaQpVN9oa0Aj9cZFKv', request_counts=BatchRequestCounts(completed=50, failed=0, total=50)), Batch(id='batch_qGlMxlC1TKehLdriBbgDZLfS', completion_window='24h', created_at=1718816632, endpoint='/v1/chat/completions', input_file_id='file-6vsDA9yztLOuZNygHrC7bx4Q', object='batch', status='in_progress', cancelled_at=None, cancelling_at=None, completed_at=None, error_file_id=None, errors=None, expired_at=None, expires_at=1718903032, failed_at=None, finalizing_at=None, in_progress_at=1718816632, metadata={'description': 'Experiment 1 Valid_4:  experiment_1_second.jsonl'}, output_file_id=None, request_counts=BatchRequestCounts(completed=48, failed=0, total=50)), Batch(id='batch_reIDjvE88eNpEWWBeg7tbXm6', completion_window='24h', created_at=1718816631, endpoint='/v1/chat/completions', input_file_id='file-md3Mk5mlqgSBqHslYfzkwgGQ', object='batch', status='completed', cancelled_at=None, cancelling_at=None, completed_at=1718816641, error_file_id=None, errors=None, expired_at=None, expires_at=1718903031, failed_at=None, finalizing_at=1718816639, in_progress_at=1718816631, metadata={'description': 'Experiment 1 Valid_4:  experiment_1_fourth.jsonl'}, output_file_id='file-Dcm1GYNUdFNmcE8yywUfrxB4', request_counts=BatchRequestCounts(completed=50, failed=0, total=50)), Batch(id='batch_ZwxIixpzKHCFoQDXOQgI8SCt', completion_window='24h', created_at=1718816630, endpoint='/v1/chat/completions', input_file_id='file-4IQCYGHopX9y2scqW1ogJ4Ay', object='batch', status='completed', cancelled_at=None, cancelling_at=None, completed_at=1718816643, error_file_id=None, errors=None, expired_at=None, expires_at=1718903030, failed_at=None, finalizing_at=1718816640, in_progress_at=1718816630, metadata={'description': 'Experiment 1 Valid_4:  experiment_1_first.jsonl'}, output_file_id='file-lgD2peG8g2S4dVMqaHhe1Xjh', request_counts=BatchRequestCounts(completed=50, failed=0, total=50)), Batch(id='batch_0P1wMs6fqBXUcoa0t6qxvXrH', completion_window='24h', created_at=1718816629, endpoint='/v1/chat/completions', input_file_id='file-vtXSpl61Nws7Gc6MStgbYk1Z', object='batch', status='completed', cancelled_at=None, cancelling_at=None, completed_at=1718816641, error_file_id=None, errors=None, expired_at=None, expires_at=1718903029, failed_at=None, finalizing_at=1718816638, in_progress_at=1718816630, metadata={'description': 'Experiment 1 Valid_4:  experiment_1_fifth.jsonl'}, output_file_id='file-TaVzmX4sYhBofiluS0Hp6rlQ', request_counts=BatchRequestCounts(completed=50, failed=0, total=50)), Batch(id='batch_U869ksOHktOREpERrmqjWsjC', completion_window='24h', created_at=1718816317, endpoint='/v1/chat/completions', input_file_id='file-AvigHwY6llyizA8R0baIl6pg', object='batch', status='completed', cancelled_at=None, cancelling_at=None, completed_at=1718816381, error_file_id=None, errors=None, expired_at=None, expires_at=1718902717, failed_at=None, finalizing_at=1718816379, in_progress_at=1718816317, metadata={'description': 'Experiment 1 Valid_3:  experiment_1_third.jsonl'}, output_file_id='file-Z9w2rvLfkTti0AsTJyuqVpAr', request_counts=BatchRequestCounts(completed=50, failed=0, total=50)), Batch(id='batch_qIXJERIakJJxgSrq89znv2vP', completion_window='24h', created_at=1718816315, endpoint='/v1/chat/completions', input_file_id='file-tchp0MLe3ItSvdhCsbT9NzXB', object='batch', status='completed', cancelled_at=None, cancelling_at=None, completed_at=1718816380, error_file_id=None, errors=None, expired_at=None, expires_at=1718902715, failed_at=None, finalizing_at=1718816377, in_progress_at=1718816315, metadata={'description': 'Experiment 1 Valid_3:  experiment_1_second.jsonl'}, output_file_id='file-7rPpH81FxW1Up3jcBGYP9cTO', request_counts=BatchRequestCounts(completed=50, failed=0, total=50)), Batch(id='batch_w0ZCJO2hTeKV6AxuWwmmd5Dk', completion_window='24h', created_at=1718816314, endpoint='/v1/chat/completions', input_file_id='file-0GVtaK9RBwQ7SNucEg9amWrD', object='batch', status='completed', cancelled_at=None, cancelling_at=None, completed_at=1718816330, error_file_id=None, errors=None, expired_at=None, expires_at=1718902714, failed_at=None, finalizing_at=1718816327, in_progress_at=1718816315, metadata={'description': 'Experiment 1 Valid_3:  experiment_1_fourth.jsonl'}, output_file_id='file-DNyFDURp9i5awjZSOcslu6UK', request_counts=BatchRequestCounts(completed=50, failed=0, total=50)), Batch(id='batch_k9HjrCaWnAPfikQ8SZPyCYu1', completion_window='24h', created_at=1718816313, endpoint='/v1/chat/completions', input_file_id='file-w0MjJRBOWFm1ZRevFzbK8NMg', object='batch', status='completed', cancelled_at=None, cancelling_at=None, completed_at=1718816330, error_file_id=None, errors=None, expired_at=None, expires_at=1718902713, failed_at=None, finalizing_at=1718816327, in_progress_at=1718816314, metadata={'description': 'Experiment 1 Valid_3:  experiment_1_first.jsonl'}, output_file_id='file-RCcangmFtVVsrwz5qrdIgZP8', request_counts=BatchRequestCounts(completed=50, failed=0, total=50)), Batch(id='batch_hQ7JZzj9pdPSLBmiFavdsq60', completion_window='24h', created_at=1718816313, endpoint='/v1/chat/completions', input_file_id='file-jm0nZWGZ30Z3aJR4pYAXTKEe', object='batch', status='completed', cancelled_at=None, cancelling_at=None, completed_at=1718816325, error_file_id=None, errors=None, expired_at=None, expires_at=1718902713, failed_at=None, finalizing_at=1718816323, in_progress_at=1718816313, metadata={'description': 'Experiment 1 Valid_3:  experiment_1_fifth.jsonl'}, output_file_id='file-hB2DDHElX4dhyGhtKUpfYStH', request_counts=BatchRequestCounts(completed=50, failed=0, total=50))], object='list', first_id='batch_mKqY9rqtexQZCZOtGQakwehZ', last_id='batch_hQ7JZzj9pdPSLBmiFavdsq60', has_more=True)"
      ]
     },
     "execution_count": 367,
     "metadata": {},
     "output_type": "execute_result"
    }
   ],
   "source": [
    "client.batches.list(limit=10)"
   ]
  }
 ],
 "metadata": {
  "kernelspec": {
   "display_name": "ECHR",
   "language": "python",
   "name": "python3"
  },
  "language_info": {
   "codemirror_mode": {
    "name": "ipython",
    "version": 3
   },
   "file_extension": ".py",
   "mimetype": "text/x-python",
   "name": "python",
   "nbconvert_exporter": "python",
   "pygments_lexer": "ipython3",
   "version": "3.11.9"
  }
 },
 "nbformat": 4,
 "nbformat_minor": 2
}
