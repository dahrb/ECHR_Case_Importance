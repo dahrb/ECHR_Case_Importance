{
 "cells": [
  {
   "cell_type": "code",
   "execution_count": 23,
   "metadata": {},
   "outputs": [
    {
     "name": "stderr",
     "output_type": "stream",
     "text": [
      "/users/sgdbareh/volatile/miniconda3/envs/ECHR/lib/python3.11/site-packages/tqdm/auto.py:21: TqdmWarning: IProgress not found. Please update jupyter and ipywidgets. See https://ipywidgets.readthedocs.io/en/stable/user_install.html\n",
      "  from .autonotebook import tqdm as notebook_tqdm\n"
     ]
    }
   ],
   "source": [
    "import  pandas as pd\n",
    "import os\n",
    "os.chdir('/users/sgdbareh/volatile/ECHR_Importance/VectorDB/')\n",
    "from run_experiments import select_embedding"
   ]
  },
  {
   "cell_type": "code",
   "execution_count": 2,
   "metadata": {},
   "outputs": [],
   "source": [
    "train = pd.read_pickle('/users/sgdbareh/volatile/ECHR_Importance/VectorDB/train.pkl')"
   ]
  },
  {
   "cell_type": "code",
   "execution_count": 3,
   "metadata": {},
   "outputs": [],
   "source": [
    "outcome_case = pd.read_pickle('/users/sgdbareh/volatile/ECHR_Importance/Art_3_Data_Process/outcome_cases.pkl')"
   ]
  },
  {
   "cell_type": "code",
   "execution_count": 4,
   "metadata": {},
   "outputs": [],
   "source": [
    "train = train[['Filename','Subject Matter','appno','extracted_apps']]"
   ]
  },
  {
   "cell_type": "code",
   "execution_count": 6,
   "metadata": {},
   "outputs": [],
   "source": [
    "new_rows = []\n",
    "for index, row in train.iterrows():\n",
    "    for appno in row['extracted_apps']:\n",
    "        new_row = {\n",
    "            'Filename': row['Filename'],\n",
    "            'Subject Matter': row['Subject Matter'],\n",
    "            'Actual App No': row['appno'],\n",
    "            'appno': appno\n",
    "        }\n",
    "        new_rows.append(new_row)\n",
    "\n",
    "new_df = pd.DataFrame(new_rows)\n",
    "#train = pd.concat([train, new_df], ignore_index=True)"
   ]
  },
  {
   "cell_type": "code",
   "execution_count": 7,
   "metadata": {},
   "outputs": [],
   "source": [
    "new_df.rename(columns={'Subject Matter':'Comm_Case'}, inplace=True)"
   ]
  },
  {
   "cell_type": "code",
   "execution_count": 5,
   "metadata": {},
   "outputs": [],
   "source": [
    "outcome_case['appno'] = outcome_case['appno'].str.split(';').str[0]"
   ]
  },
  {
   "cell_type": "code",
   "execution_count": 9,
   "metadata": {},
   "outputs": [],
   "source": [
    "outcome_case.drop_duplicates(subset=['appno'], inplace=True,keep='last')"
   ]
  },
  {
   "cell_type": "code",
   "execution_count": 10,
   "metadata": {},
   "outputs": [],
   "source": [
    "outcome_case = outcome_case[['File','appno']]"
   ]
  },
  {
   "cell_type": "code",
   "execution_count": 11,
   "metadata": {},
   "outputs": [],
   "source": [
    "outcome_case.rename(columns={'File':'Filename'}, inplace=True)"
   ]
  },
  {
   "cell_type": "code",
   "execution_count": 13,
   "metadata": {},
   "outputs": [],
   "source": [
    "summarise_data = pd.read_pickle('/users/sgdbareh/volatile/ECHR_Importance/Summarize_Cases/Results/outcome_summaries.pkl')"
   ]
  },
  {
   "cell_type": "code",
   "execution_count": 14,
   "metadata": {},
   "outputs": [],
   "source": [
    "complete_outcome_data = pd.merge(outcome_case, summarise_data, on='Filename', how='inner')"
   ]
  },
  {
   "cell_type": "code",
   "execution_count": 18,
   "metadata": {},
   "outputs": [],
   "source": [
    "training_data = pd.merge(new_df, complete_outcome_data, on='appno', how='left')"
   ]
  },
  {
   "cell_type": "code",
   "execution_count": 19,
   "metadata": {},
   "outputs": [
    {
     "data": {
      "text/plain": [
       "Index(['Filename_x', 'Comm_Case', 'Actual App No', 'appno', 'Filename_y',\n",
       "       '200 Word Summary', '500 Word Summary'],\n",
       "      dtype='object')"
      ]
     },
     "execution_count": 19,
     "metadata": {},
     "output_type": "execute_result"
    }
   ],
   "source": [
    "training_data.columns"
   ]
  },
  {
   "cell_type": "code",
   "execution_count": 20,
   "metadata": {},
   "outputs": [],
   "source": [
    "training_data = training_data[['Filename_x','Comm_Case','appno','200 Word Summary']]"
   ]
  },
  {
   "cell_type": "code",
   "execution_count": 21,
   "metadata": {},
   "outputs": [],
   "source": [
    "training_data.rename(columns={'Filename_x':'Filename','200 Word Summary':'Positive'}, inplace=True)"
   ]
  },
  {
   "cell_type": "code",
   "execution_count": 24,
   "metadata": {},
   "outputs": [],
   "source": [
    "#FIND NEGATIVE CASES\n",
    "results = pd.read_pickle('/users/sgdbareh/volatile/ECHR_Importance/VectorDB/cosine_openai_raw_chunk_1024_results.pkl')"
   ]
  },
  {
   "cell_type": "code",
   "execution_count": 25,
   "metadata": {},
   "outputs": [],
   "source": [
    "for i,j in results.items():\n",
    "\n",
    "    result_list = []\n",
    "\n",
    "    for k in j:\n",
    "        if k == '':\n",
    "            continue    \n",
    "        result_list.append(k.split(';')[0])  \n",
    "\n",
    "    results[i] = result_list[15:]   "
   ]
  },
  {
   "cell_type": "code",
   "execution_count": 26,
   "metadata": {},
   "outputs": [],
   "source": [
    "negative_candidates = pd.DataFrame.from_dict(results, orient='index')"
   ]
  },
  {
   "cell_type": "code",
   "execution_count": 27,
   "metadata": {},
   "outputs": [],
   "source": [
    "neg_numbers = {}\n",
    "\n",
    "for index, row in training_data.iterrows():\n",
    "    # Access the values of each column in the row\n",
    "    column1_value = row['Filename']\n",
    "    neg_list = negative_candidates.loc[column1_value].values\n",
    "    if column1_value not in neg_numbers.keys():\n",
    "        neg_numbers[column1_value] = 49\n",
    "    \n",
    "    #print(neg_list)\n",
    "    \n",
    "    neg_candidate = neg_numbers[column1_value]\n",
    "\n",
    "    while neg_candidate is None:\n",
    "        neg_numbers[column1_value] -= 1\n",
    "        neg_candidate = neg_list[neg_numbers[column1_value]]\n",
    "\n",
    "    neg_numbers[column1_value] -= 1\n",
    "\n",
    "    #print(neg_candidate)\n",
    "\n",
    "    training_data.at[index, 'Negative'] = neg_list[neg_candidate]"
   ]
  },
  {
   "cell_type": "code",
   "execution_count": 28,
   "metadata": {},
   "outputs": [],
   "source": [
    "complete_outcome_data.rename(columns={'appno':'Negative'}, inplace=True)"
   ]
  },
  {
   "cell_type": "code",
   "execution_count": 42,
   "metadata": {},
   "outputs": [],
   "source": [
    "training_data_pos_neg = pd.merge(training_data, complete_outcome_data, on='Negative', how='inner')"
   ]
  },
  {
   "cell_type": "code",
   "execution_count": 43,
   "metadata": {},
   "outputs": [],
   "source": [
    "training_data_pos_neg = training_data_pos_neg[['Filename_x','Comm_Case','Positive','200 Word Summary']]"
   ]
  },
  {
   "cell_type": "code",
   "execution_count": 44,
   "metadata": {},
   "outputs": [],
   "source": [
    "training_data_pos_neg.rename(columns={'Filename_x':'Filename','200 Word Summary':'Negative'}, inplace=True)"
   ]
  },
  {
   "cell_type": "code",
   "execution_count": 45,
   "metadata": {},
   "outputs": [],
   "source": [
    "#replace comm case facts with summaries\n",
    "\n",
    "comm_summaries = pd.read_pickle('/users/sgdbareh/volatile/ECHR_Importance/Summarize_Cases/Results/comm_train_summaries.pkl')"
   ]
  },
  {
   "cell_type": "code",
   "execution_count": 46,
   "metadata": {},
   "outputs": [],
   "source": [
    "training_data_pos_neg = pd.merge(training_data_pos_neg, comm_summaries, on='Filename', how='inner')"
   ]
  },
  {
   "cell_type": "code",
   "execution_count": 48,
   "metadata": {},
   "outputs": [],
   "source": [
    "training_data_pos_neg.drop(columns=['Comm_Case','500 Word Summary'], inplace=True)"
   ]
  },
  {
   "cell_type": "code",
   "execution_count": 49,
   "metadata": {},
   "outputs": [],
   "source": [
    "training_data_pos_neg.rename(columns={'200 Word Summary':'Comm_Case'}, inplace=True)"
   ]
  },
  {
   "cell_type": "code",
   "execution_count": 54,
   "metadata": {},
   "outputs": [],
   "source": [
    "training_data_pos_neg.to_pickle('/users/sgdbareh/volatile/ECHR_Importance/BERT-rerank/BERT_training_data_df.pkl')"
   ]
  },
  {
   "cell_type": "code",
   "execution_count": 52,
   "metadata": {},
   "outputs": [
    {
     "data": {
      "text/html": [
       "<div>\n",
       "<style scoped>\n",
       "    .dataframe tbody tr th:only-of-type {\n",
       "        vertical-align: middle;\n",
       "    }\n",
       "\n",
       "    .dataframe tbody tr th {\n",
       "        vertical-align: top;\n",
       "    }\n",
       "\n",
       "    .dataframe thead th {\n",
       "        text-align: right;\n",
       "    }\n",
       "</style>\n",
       "<table border=\"1\" class=\"dataframe\">\n",
       "  <thead>\n",
       "    <tr style=\"text-align: right;\">\n",
       "      <th></th>\n",
       "      <th>Filename</th>\n",
       "      <th>Positive</th>\n",
       "      <th>Negative</th>\n",
       "      <th>Comm_Case</th>\n",
       "    </tr>\n",
       "  </thead>\n",
       "  <tbody>\n",
       "    <tr>\n",
       "      <th>0</th>\n",
       "      <td>001-194607</td>\n",
       "      <td>The case involves three applicants who were de...</td>\n",
       "      <td>The applicants, a mother and daughter from Chi...</td>\n",
       "      <td>The case involves four Russian women, Natalya ...</td>\n",
       "    </tr>\n",
       "    <tr>\n",
       "      <th>1</th>\n",
       "      <td>001-194607</td>\n",
       "      <td>The case involves the death of Mr. Atanas Veli...</td>\n",
       "      <td>The case involves the first applicant, a 17-ye...</td>\n",
       "      <td>The case involves four Russian women, Natalya ...</td>\n",
       "    </tr>\n",
       "    <tr>\n",
       "      <th>2</th>\n",
       "      <td>001-194607</td>\n",
       "      <td>The applicant, a police officer, was arrested ...</td>\n",
       "      <td>The case involves Romanian citizens of Roma or...</td>\n",
       "      <td>The case involves four Russian women, Natalya ...</td>\n",
       "    </tr>\n",
       "    <tr>\n",
       "      <th>3</th>\n",
       "      <td>001-194607</td>\n",
       "      <td>The case involves three siblings, X, Y, and Z,...</td>\n",
       "      <td>The applicant, born in 1976 and residing in Si...</td>\n",
       "      <td>The case involves four Russian women, Natalya ...</td>\n",
       "    </tr>\n",
       "    <tr>\n",
       "      <th>4</th>\n",
       "      <td>001-194607</td>\n",
       "      <td>The case involves Mr. Halil İbrahim Okkalı, wh...</td>\n",
       "      <td>The applicant, born in 1982 and diagnosed with...</td>\n",
       "      <td>The case involves four Russian women, Natalya ...</td>\n",
       "    </tr>\n",
       "    <tr>\n",
       "      <th>...</th>\n",
       "      <td>...</td>\n",
       "      <td>...</td>\n",
       "      <td>...</td>\n",
       "      <td>...</td>\n",
       "    </tr>\n",
       "    <tr>\n",
       "      <th>2311</th>\n",
       "      <td>001-145069</td>\n",
       "      <td>Mr. Antonio Messina, an Italian national born ...</td>\n",
       "      <td>Mr. Julian Rosengren, a dual national of Roman...</td>\n",
       "      <td>Mr. Boris Mozer, a Moldovan national, was deta...</td>\n",
       "    </tr>\n",
       "    <tr>\n",
       "      <th>2312</th>\n",
       "      <td>001-145069</td>\n",
       "      <td>The case concerns the Turkish military operati...</td>\n",
       "      <td>Aleksandr Vyacheslavovich Medvedev, a Russian ...</td>\n",
       "      <td>Mr. Boris Mozer, a Moldovan national, was deta...</td>\n",
       "    </tr>\n",
       "    <tr>\n",
       "      <th>2313</th>\n",
       "      <td>001-145069</td>\n",
       "      <td>The applicant was detained on remand in Cracow...</td>\n",
       "      <td>The applicant, a school teacher with a third-d...</td>\n",
       "      <td>Mr. Boris Mozer, a Moldovan national, was deta...</td>\n",
       "    </tr>\n",
       "    <tr>\n",
       "      <th>2314</th>\n",
       "      <td>001-176188</td>\n",
       "      <td>The applicant, born in 1957, was the secretary...</td>\n",
       "      <td>Mr. Nugzar Tabagari, a Georgian national born ...</td>\n",
       "      <td>The case concerns an applicant who was remande...</td>\n",
       "    </tr>\n",
       "    <tr>\n",
       "      <th>2315</th>\n",
       "      <td>001-176188</td>\n",
       "      <td>The applicant, born in 1967, was arrested on 1...</td>\n",
       "      <td>The applicant, born in 1963, was arrested on 2...</td>\n",
       "      <td>The case concerns an applicant who was remande...</td>\n",
       "    </tr>\n",
       "  </tbody>\n",
       "</table>\n",
       "<p>2316 rows × 4 columns</p>\n",
       "</div>"
      ],
      "text/plain": [
       "        Filename                                           Positive  \\\n",
       "0     001-194607  The case involves three applicants who were de...   \n",
       "1     001-194607  The case involves the death of Mr. Atanas Veli...   \n",
       "2     001-194607  The applicant, a police officer, was arrested ...   \n",
       "3     001-194607  The case involves three siblings, X, Y, and Z,...   \n",
       "4     001-194607  The case involves Mr. Halil İbrahim Okkalı, wh...   \n",
       "...          ...                                                ...   \n",
       "2311  001-145069  Mr. Antonio Messina, an Italian national born ...   \n",
       "2312  001-145069  The case concerns the Turkish military operati...   \n",
       "2313  001-145069  The applicant was detained on remand in Cracow...   \n",
       "2314  001-176188  The applicant, born in 1957, was the secretary...   \n",
       "2315  001-176188  The applicant, born in 1967, was arrested on 1...   \n",
       "\n",
       "                                               Negative  \\\n",
       "0     The applicants, a mother and daughter from Chi...   \n",
       "1     The case involves the first applicant, a 17-ye...   \n",
       "2     The case involves Romanian citizens of Roma or...   \n",
       "3     The applicant, born in 1976 and residing in Si...   \n",
       "4     The applicant, born in 1982 and diagnosed with...   \n",
       "...                                                 ...   \n",
       "2311  Mr. Julian Rosengren, a dual national of Roman...   \n",
       "2312  Aleksandr Vyacheslavovich Medvedev, a Russian ...   \n",
       "2313  The applicant, a school teacher with a third-d...   \n",
       "2314  Mr. Nugzar Tabagari, a Georgian national born ...   \n",
       "2315  The applicant, born in 1963, was arrested on 2...   \n",
       "\n",
       "                                              Comm_Case  \n",
       "0     The case involves four Russian women, Natalya ...  \n",
       "1     The case involves four Russian women, Natalya ...  \n",
       "2     The case involves four Russian women, Natalya ...  \n",
       "3     The case involves four Russian women, Natalya ...  \n",
       "4     The case involves four Russian women, Natalya ...  \n",
       "...                                                 ...  \n",
       "2311  Mr. Boris Mozer, a Moldovan national, was deta...  \n",
       "2312  Mr. Boris Mozer, a Moldovan national, was deta...  \n",
       "2313  Mr. Boris Mozer, a Moldovan national, was deta...  \n",
       "2314  The case concerns an applicant who was remande...  \n",
       "2315  The case concerns an applicant who was remande...  \n",
       "\n",
       "[2316 rows x 4 columns]"
      ]
     },
     "execution_count": 52,
     "metadata": {},
     "output_type": "execute_result"
    }
   ],
   "source": [
    "training_data_pos_neg"
   ]
  },
  {
   "cell_type": "code",
   "execution_count": 53,
   "metadata": {},
   "outputs": [],
   "source": [
    "from sentence_transformers import InputExample\n"
   ]
  },
  {
   "cell_type": "code",
   "execution_count": null,
   "metadata": {},
   "outputs": [],
   "source": [
    "# Initialize an empty list for train_samples\n",
    "train_samples = []\n",
    "\n",
    "# Iterate over the DataFrame rows\n",
    "for index, row in df.iterrows():\n",
    "    # Create InputExample for positive label\n",
    "    train_samples.append(InputExample(texts=[row['comm_case'], row['positive']], label=label2int[\"pos\"]))\n",
    "    # Create InputExample for negative label\n",
    "    train_samples.append(InputExample(texts=[row['comm_case'], row['negative']], label=label2int[\"neg\"]))\n"
   ]
  },
  {
   "cell_type": "code",
   "execution_count": null,
   "metadata": {},
   "outputs": [],
   "source": [
    "# REPLACE COMM CASE WITH SUMMARY TOO!!!!"
   ]
  },
  {
   "cell_type": "code",
   "execution_count": null,
   "metadata": {},
   "outputs": [],
   "source": [
    "#for loop\n",
    "\n",
    "# for each case in train_subset\n",
    "# find the text of a extracted appno and pair it as positive\n",
    "# then find not very similar case and pair as negative do this for all extracted app nos\n",
    "\n",
    "### use openai 1024 to find the least similar\n",
    "\n",
    "\n",
    "## split this 80/20 cros validation to train 5 different models for train/validation\n",
    "\n",
    "\n",
    "#eval on test set \n",
    "\n",
    "#label2int = {\"neg\": 0, \"pos\": 1}\n",
    "#train_samples = [\n",
    "#    InputExample(texts=[\"sentence1\", \"sentence2\"], label=label2int[\"neg\"]),\n",
    "#    InputExample(texts=[\"Another\", \"pair\"], label=label2int[\"pos\"]),\n",
    "#]"
   ]
  }
 ],
 "metadata": {
  "kernelspec": {
   "display_name": "ECHR",
   "language": "python",
   "name": "python3"
  },
  "language_info": {
   "codemirror_mode": {
    "name": "ipython",
    "version": 3
   },
   "file_extension": ".py",
   "mimetype": "text/x-python",
   "name": "python",
   "nbconvert_exporter": "python",
   "pygments_lexer": "ipython3",
   "version": "3.11.9"
  }
 },
 "nbformat": 4,
 "nbformat_minor": 2
}
